{
 "cells": [
  {
   "cell_type": "markdown",
   "source": [
    "---\n",
    "#1. Preparation\n",
    "##1.1 Download Stable-Diffusion Checkpoint"
   ],
   "metadata": {
    "collapsed": false
   }
  },
  {
   "cell_type": "code",
   "execution_count": null,
   "outputs": [],
   "source": [
    "%%shell\n",
    "mkdir -p pretrained/\n",
    "cd pretrained/\n",
    "wget https://huggingface.co/CompVis/stable-diffusion-v-1-4-original/resolve/main/sd-v1-4-full-ema.ckpt\n",
    "cd .."
   ],
   "metadata": {
    "collapsed": false,
    "pycharm": {
     "name": "#%%\n"
    }
   }
  },
  {
   "cell_type": "markdown",
   "source": [
    "##1.2 Clone CelebBasis Code from [GitHub](https://github.com/ygtxr1997/CelebBasis/tree/main)"
   ],
   "metadata": {
    "collapsed": false
   }
  },
  {
   "cell_type": "code",
   "execution_count": null,
   "outputs": [],
   "source": [
    "!git clone https://github.com/ygtxr1997/CelebBasis.git"
   ],
   "metadata": {
    "collapsed": false,
    "pycharm": {
     "name": "#%%\n"
    }
   }
  },
  {
   "cell_type": "markdown",
   "source": [
    "## 1.3 Download the StyleGAN Datasets and Third-Party Pretrained Weights from HuggingFace"
   ],
   "metadata": {
    "collapsed": false
   }
  },
  {
   "cell_type": "code",
   "execution_count": null,
   "outputs": [],
   "source": [
    "# dataset\n",
    "!mkdir -p ./datasets/ && cd ./datasets/ && wget -q https://huggingface.co/datasets/ygtxr1997/CelebBasis/resolve/main/stylegan.tar\n",
    "!cd ./datasets/ && tar -xf stylegan.tar && rm stylegan.tar\n",
    "# face alignment model\n",
    "!mkdir -p ./pretrained/PIPNet/ && mkdir -p ./pretrained/glint360k_cosface_r100_fp16_0.1/\n",
    "!cd ./pretrained/PIPNet/ && wget -q https://huggingface.co/datasets/ygtxr1997/CelebBasis/resolve/main/PIPNet/FaceBoxesV2.pth && wget -q https://huggingface.co/datasets/ygtxr1997/CelebBasis/resolve/main/PIPNet/epoch59.pth\n",
    "!cp ./pretrained/PIPNet/* ./CelebBasis/evaluation/face_align/PIPNet/weights\n",
    "# face recognition model\n",
    "!cd ./pretrained/glint360k_cosface_r100_fp16_0.1/ && wget -q https://huggingface.co/datasets/ygtxr1997/CelebBasis/resolve/main/glint360k_cosface_r100_fp16_0.1/backbone.pth\n",
    "!mkdir -p ./CelebBasis/weights/\n",
    "!cp -r ./pretrained/glint360k_cosface_r100_fp16_0.1/ ./CelebBasis/weights/"
   ],
   "metadata": {
    "collapsed": false,
    "pycharm": {
     "name": "#%%\n"
    }
   }
  },
  {
   "cell_type": "markdown",
   "source": [
    "##1.4 (Optional) Copy StyleGAN Datasets and Third-Party Pretrained Weights from Your Own Google Drive\n",
    "*If you have any downloading problem in (Step 1.3), you can copy the datasets and pretrained models to your own Google Drive as follows.*\n",
    "\n",
    "You should first copy [CelebBasis Google Drive](https://drive.google.com/drive/folders/181pJ3Y2Ffk0R8jVcErPT611aWQLCz7D9?usp=sharing) to your own [Google Drive](https://drive.google.com/drive/my-drive).\n",
    "The Google Drive directory tree will be like:\n",
    "```shell\n",
    "My Drive/\n",
    " |--CelebBasis/\n",
    "  |--datasets/\n",
    "  |--pretrained/\n",
    "```\n",
    "Then, the following cell mounts your own Google Drive to this Colab Notebook and copies the datasets and weights files from the mounted folder."
   ],
   "metadata": {
    "collapsed": false
   }
  },
  {
   "cell_type": "code",
   "execution_count": null,
   "outputs": [],
   "source": [
    "# @title Use Googgle Drive? { display-mode: \"form\" }\n",
    "\n",
    "use_google_drive = False # @param [\"False\", \"True\"]\n",
    "print('Use Google Drive:', use_google_drive)\n",
    "if use_google_drive:\n",
    "  import os\n",
    "  from google.colab import drive\n",
    "  drive.mount('/content/drive')\n",
    "  os.system('cp -r /content/drive/MyDrive/CelebBasis/datasets/ ./')\n",
    "  os.system('cp -r /content/drive/MyDrive/CelebBasis/pretrained/* ./pretrained/')\n",
    "  drive.flush_and_unmount()\n",
    "  os.system('cd ./datasets && tar -xf stylegan.tar && rm stylegan.tar')\n",
    "  os.system('cp ./pretrained/PIPNet/* ./CelebBasis/evaluation/face_align/PIPNet/weights')\n",
    "  os.system('mkdir -p ./CelebBasis/weights/')\n",
    "  os.system('cp -r ./pretrained/glint360k_cosface_r100_fp16_0.1/ ./CelebBasis/weights/')\n",
    "else:\n",
    "  pass"
   ],
   "metadata": {
    "collapsed": false,
    "pycharm": {
     "name": "#%%\n"
    }
   }
  },
  {
   "cell_type": "markdown",
   "source": [
    "## 1.5 Use PIP to Install the Python Dependencies and Uninstall the Needless Modules (which are preinstalled by Google Colab but not used)"
   ],
   "metadata": {
    "collapsed": false
   }
  },
  {
   "cell_type": "code",
   "execution_count": null,
   "outputs": [],
   "source": [
    "!mkdir -p pip_installed/ && cd pip_installed/ && pip install -r ../CelebBasis/requirements.txt\n",
    "!pip uninstall -r ./CelebBasis/requirements_uninstall.txt -y\n",
    "!pip list |grep torch"
   ],
   "metadata": {
    "collapsed": false,
    "pycharm": {
     "name": "#%%\n"
    }
   }
  },
  {
   "cell_type": "markdown",
   "source": [
    "---\n",
    "#2. Crop and Align Faces"
   ],
   "metadata": {
    "collapsed": false
   }
  },
  {
   "cell_type": "code",
   "execution_count": null,
   "outputs": [],
   "source": [
    "!cd CelebBasis && chmod +x *.sh && bash ./00_align_face.sh ../datasets/stylegan/stylegan3-r-ffhq-1024x1024 ../datasets/stylegan/ffhq"
   ],
   "metadata": {
    "collapsed": false,
    "pycharm": {
     "name": "#%%\n"
    }
   }
  },
  {
   "cell_type": "markdown",
   "source": [
    "#3. Train\n",
    "* Limited by Google Colab GPU Memory ($<$16GB), we have to modify the `configs/stable-diffusion/aigc_id_colab.yaml` as follows:\n",
    "```yaml\n",
    "model:\n",
    "  params:\n",
    "    personalization_config:\n",
    "      params:\n",
    "        momentum: 0.9  # default: 0.99\n",
    "data:\n",
    "  params:\n",
    "    batch_size: 1  # default: 2\n",
    "    num_workers: 2  # default: 8\n",
    "lightning:\n",
    "  modelcheckpoint:\n",
    "    params:\n",
    "      every_n_train_steps: 400  # default: 200\n",
    "  callbacks:\n",
    "    image_logger:\n",
    "      params:\n",
    "        batch_frequency: 1200  # default: 600\n",
    "  trainer:\n",
    "    max_steps: 800  # default: 1600\n",
    "```\n",
    "* These modifications may increase the training time and downgrade the performance slightly."
   ],
   "metadata": {
    "collapsed": false
   }
  },
  {
   "cell_type": "code",
   "execution_count": null,
   "outputs": [],
   "source": [
    "!cd CelebBasis && bash ./01_start_train.sh ../pretrained/sd-v1-4-full-ema.ckpt ./configs/stable-diffusion/aigc_id_colab.yaml"
   ],
   "metadata": {
    "collapsed": false,
    "pycharm": {
     "name": "#%%\n"
    }
   }
  },
  {
   "cell_type": "markdown",
   "source": [
    "#4. Test\n",
    "Modify the following `\"traininYYYY-MM-DDTHH-MM-SS_celebbasis/\"` to the project folder under `./CelebBasis/logs/` and run the test.\n",
    "\n",
    "The generated images will be output under `./CelebBasis/outputs/traininYYYY-MM-DDTHH-MM-SS_celebbasis/`. Enjoy it!"
   ],
   "metadata": {
    "collapsed": false
   }
  },
  {
   "cell_type": "code",
   "execution_count": null,
   "outputs": [],
   "source": [
    "!cd CelebBasis && bash ./02_start_test.sh \"../pretrained/sd-v1-4-full-ema.ckpt\" \"./infer_images/example_prompt.txt\" \"training2023-07-13T14-55-56_celebbasis\" 4"
   ],
   "metadata": {
    "collapsed": false,
    "pycharm": {
     "name": "#%%\n"
    }
   }
  },
  {
   "cell_type": "code",
   "execution_count": null,
   "outputs": [],
   "source": [
    "!nvidia-smi"
   ],
   "metadata": {
    "collapsed": false,
    "pycharm": {
     "name": "#%%\n"
    }
   }
  }
 ],
 "metadata": {
  "accelerator": "GPU",
  "colab": {
   "machine_shape": "hm",
   "provenance": [],
   "gpuType": "V100"
  },
  "kernelspec": {
   "display_name": "Python 3",
   "name": "python3"
  },
  "language_info": {
   "name": "python"
  }
 },
 "nbformat": 4,
 "nbformat_minor": 0
}